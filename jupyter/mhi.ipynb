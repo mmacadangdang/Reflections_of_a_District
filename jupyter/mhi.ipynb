{
 "cells": [
  {
   "cell_type": "markdown",
   "metadata": {},
   "source": [
    "# Set up and clean up of data frames"
   ]
  },
  {
   "cell_type": "code",
   "execution_count": 1,
   "metadata": {},
   "outputs": [],
   "source": [
    "# Dependencies \n",
    "import pandas as pd\n",
    "import numpy as np\n",
    "from sqlalchemy import create_engine"
   ]
  },
  {
   "cell_type": "code",
   "execution_count": 10,
   "metadata": {
    "scrolled": true
   },
   "outputs": [
    {
     "data": {
      "text/html": [
       "<div>\n",
       "<style scoped>\n",
       "    .dataframe tbody tr th:only-of-type {\n",
       "        vertical-align: middle;\n",
       "    }\n",
       "\n",
       "    .dataframe tbody tr th {\n",
       "        vertical-align: top;\n",
       "    }\n",
       "\n",
       "    .dataframe thead th {\n",
       "        text-align: right;\n",
       "    }\n",
       "</style>\n",
       "<table border=\"1\" class=\"dataframe\">\n",
       "  <thead>\n",
       "    <tr style=\"text-align: right;\">\n",
       "      <th></th>\n",
       "      <th>year</th>\n",
       "      <th>mhi</th>\n",
       "    </tr>\n",
       "  </thead>\n",
       "  <tbody>\n",
       "    <tr>\n",
       "      <th>0</th>\n",
       "      <td>2015</td>\n",
       "      <td>101133</td>\n",
       "    </tr>\n",
       "    <tr>\n",
       "      <th>1</th>\n",
       "      <td>2016</td>\n",
       "      <td>107075</td>\n",
       "    </tr>\n",
       "    <tr>\n",
       "      <th>2</th>\n",
       "      <td>2017</td>\n",
       "      <td>115908</td>\n",
       "    </tr>\n",
       "    <tr>\n",
       "      <th>3</th>\n",
       "      <td>2018</td>\n",
       "      <td>122930</td>\n",
       "    </tr>\n",
       "  </tbody>\n",
       "</table>\n",
       "</div>"
      ],
      "text/plain": [
       "   year     mhi\n",
       "0  2015  101133\n",
       "1  2016  107075\n",
       "2  2017  115908\n",
       "3  2018  122930"
      ]
     },
     "execution_count": 10,
     "metadata": {},
     "output_type": "execute_result"
    }
   ],
   "source": [
    "# Create a new data frame for MHI based on MHI.csv\n",
    "median_household_income = pd.DataFrame(\n",
    "    {\"year\": [\"2015\", \"2016\", \"2017\", \"2018\"],\n",
    "     \"mhi\": [101133, 107075, 115908, 122930]\n",
    "    }\n",
    ")\n",
    "median_household_income\n"
   ]
  },
  {
   "cell_type": "code",
   "execution_count": 11,
   "metadata": {},
   "outputs": [],
   "source": [
    "# Save data frame to CSV\n",
    "median_household_income.to_csv(\"data/median_household_income.csv\", index=False)"
   ]
  },
  {
   "cell_type": "markdown",
   "metadata": {},
   "source": [
    "### calculate the percent change of MHI "
   ]
  },
  {
   "cell_type": "code",
   "execution_count": 101,
   "metadata": {
    "scrolled": false
   },
   "outputs": [
    {
     "data": {
      "text/html": [
       "<div>\n",
       "<style scoped>\n",
       "    .dataframe tbody tr th:only-of-type {\n",
       "        vertical-align: middle;\n",
       "    }\n",
       "\n",
       "    .dataframe tbody tr th {\n",
       "        vertical-align: top;\n",
       "    }\n",
       "\n",
       "    .dataframe thead th {\n",
       "        text-align: right;\n",
       "    }\n",
       "</style>\n",
       "<table border=\"1\" class=\"dataframe\">\n",
       "  <thead>\n",
       "    <tr style=\"text-align: right;\">\n",
       "      <th></th>\n",
       "      <th>mhi</th>\n",
       "    </tr>\n",
       "  </thead>\n",
       "  <tbody>\n",
       "    <tr>\n",
       "      <th>2015</th>\n",
       "      <td>101133</td>\n",
       "    </tr>\n",
       "    <tr>\n",
       "      <th>2016</th>\n",
       "      <td>107075</td>\n",
       "    </tr>\n",
       "    <tr>\n",
       "      <th>2017</th>\n",
       "      <td>115908</td>\n",
       "    </tr>\n",
       "    <tr>\n",
       "      <th>2018</th>\n",
       "      <td>122930</td>\n",
       "    </tr>\n",
       "  </tbody>\n",
       "</table>\n",
       "</div>"
      ],
      "text/plain": [
       "         mhi\n",
       "2015  101133\n",
       "2016  107075\n",
       "2017  115908\n",
       "2018  122930"
      ]
     },
     "execution_count": 101,
     "metadata": {},
     "output_type": "execute_result"
    }
   ],
   "source": [
    "# Calculate percent change for MHI\n",
    "MHIpct_change = pd.DataFrame(\n",
    "    {\"mhi\": [101133, 107075, 115908, 122930]},\n",
    "     index = [\"2015\", \"2016\", \"2017\", \"2018\"]\n",
    ")\n",
    "MHIpct_change"
   ]
  },
  {
   "cell_type": "code",
   "execution_count": 102,
   "metadata": {
    "scrolled": true
   },
   "outputs": [
    {
     "data": {
      "text/html": [
       "<div>\n",
       "<style scoped>\n",
       "    .dataframe tbody tr th:only-of-type {\n",
       "        vertical-align: middle;\n",
       "    }\n",
       "\n",
       "    .dataframe tbody tr th {\n",
       "        vertical-align: top;\n",
       "    }\n",
       "\n",
       "    .dataframe thead th {\n",
       "        text-align: right;\n",
       "    }\n",
       "</style>\n",
       "<table border=\"1\" class=\"dataframe\">\n",
       "  <thead>\n",
       "    <tr style=\"text-align: right;\">\n",
       "      <th></th>\n",
       "      <th>mhi</th>\n",
       "    </tr>\n",
       "  </thead>\n",
       "  <tbody>\n",
       "    <tr>\n",
       "      <th>2015</th>\n",
       "      <td>NaN</td>\n",
       "    </tr>\n",
       "    <tr>\n",
       "      <th>2016</th>\n",
       "      <td>0.058754</td>\n",
       "    </tr>\n",
       "    <tr>\n",
       "      <th>2017</th>\n",
       "      <td>0.082494</td>\n",
       "    </tr>\n",
       "    <tr>\n",
       "      <th>2018</th>\n",
       "      <td>0.060583</td>\n",
       "    </tr>\n",
       "  </tbody>\n",
       "</table>\n",
       "</div>"
      ],
      "text/plain": [
       "           mhi\n",
       "2015       NaN\n",
       "2016  0.058754\n",
       "2017  0.082494\n",
       "2018  0.060583"
      ]
     },
     "execution_count": 102,
     "metadata": {},
     "output_type": "execute_result"
    }
   ],
   "source": [
    "avg_percentMHI = MHIpct_change.pct_change()\n",
    "\n",
    "avg_percentMHI"
   ]
  },
  {
   "cell_type": "code",
   "execution_count": 103,
   "metadata": {},
   "outputs": [
    {
     "data": {
      "text/plain": [
       "mhi    0.067277\n",
       "dtype: float64"
      ]
     },
     "execution_count": 103,
     "metadata": {},
     "output_type": "execute_result"
    }
   ],
   "source": [
    "avg_percentMHI.iloc[[1,2,3]].mean()"
   ]
  },
  {
   "cell_type": "markdown",
   "metadata": {},
   "source": [
    "## clean up of student data"
   ]
  },
  {
   "cell_type": "code",
   "execution_count": 88,
   "metadata": {
    "scrolled": false
   },
   "outputs": [],
   "source": [
    "# Read enrollment CSVs to get the count of students enrolled each year\n",
    "demo_2015 = pd.read_csv(\"initialData/2015_demo_data.csv\")\n",
    "demo_2016 = pd.read_csv(\"initialData/2016_demo_data.csv\")\n",
    "demo_2017 = pd.read_csv(\"initialData/2017_demo_data.csv\")\n",
    "demo_2018 = pd.read_csv(\"initialData/2018_demo_data.csv\")\n"
   ]
  },
  {
   "cell_type": "code",
   "execution_count": 89,
   "metadata": {
    "scrolled": true
   },
   "outputs": [
    {
     "data": {
      "text/html": [
       "<div>\n",
       "<style scoped>\n",
       "    .dataframe tbody tr th:only-of-type {\n",
       "        vertical-align: middle;\n",
       "    }\n",
       "\n",
       "    .dataframe tbody tr th {\n",
       "        vertical-align: top;\n",
       "    }\n",
       "\n",
       "    .dataframe thead th {\n",
       "        text-align: right;\n",
       "    }\n",
       "</style>\n",
       "<table border=\"1\" class=\"dataframe\">\n",
       "  <thead>\n",
       "    <tr style=\"text-align: right;\">\n",
       "      <th></th>\n",
       "      <th>student.studentNumber</th>\n",
       "      <th>mailingAddress.addressLine1</th>\n",
       "      <th>mailingAddress.addressLine2</th>\n",
       "      <th>mailingAddress.city</th>\n",
       "      <th>mailingAddress.state</th>\n",
       "      <th>mailingAddress.zip</th>\n",
       "      <th>student.raceEthnicity</th>\n",
       "      <th>student.startDate</th>\n",
       "      <th>student.endDate</th>\n",
       "    </tr>\n",
       "  </thead>\n",
       "  <tbody>\n",
       "    <tr>\n",
       "      <th>0</th>\n",
       "      <td>111120061</td>\n",
       "      <td>151 Escanyo Dr</td>\n",
       "      <td>So San Francisco, CA 94080</td>\n",
       "      <td>So San Francisco</td>\n",
       "      <td>CA</td>\n",
       "      <td>94080</td>\n",
       "      <td>400.0</td>\n",
       "      <td>08/12/2015</td>\n",
       "      <td>05/25/2016</td>\n",
       "    </tr>\n",
       "    <tr>\n",
       "      <th>1</th>\n",
       "      <td>111130092</td>\n",
       "      <td>222 Alta Vista Dr</td>\n",
       "      <td>So San Francisco, CA 94080</td>\n",
       "      <td>So San Francisco</td>\n",
       "      <td>CA</td>\n",
       "      <td>94080</td>\n",
       "      <td>700.0</td>\n",
       "      <td>08/12/2015</td>\n",
       "      <td>05/25/2016</td>\n",
       "    </tr>\n",
       "    <tr>\n",
       "      <th>2</th>\n",
       "      <td>111130111</td>\n",
       "      <td>144 Country Club Dr #9</td>\n",
       "      <td>So San Francisco, CA 94080</td>\n",
       "      <td>So San Francisco</td>\n",
       "      <td>CA</td>\n",
       "      <td>94080</td>\n",
       "      <td>700.0</td>\n",
       "      <td>08/12/2015</td>\n",
       "      <td>05/25/2016</td>\n",
       "    </tr>\n",
       "    <tr>\n",
       "      <th>3</th>\n",
       "      <td>111170029</td>\n",
       "      <td>512 Poplar Ave</td>\n",
       "      <td>So San Francisco, CA 94080</td>\n",
       "      <td>So San Francisco</td>\n",
       "      <td>CA</td>\n",
       "      <td>94080</td>\n",
       "      <td>399.0</td>\n",
       "      <td>08/12/2015</td>\n",
       "      <td>05/25/2016</td>\n",
       "    </tr>\n",
       "    <tr>\n",
       "      <th>4</th>\n",
       "      <td>112080082</td>\n",
       "      <td>1 Wakefield Ave</td>\n",
       "      <td>Daly City, CA 94015</td>\n",
       "      <td>Daly City</td>\n",
       "      <td>CA</td>\n",
       "      <td>94015</td>\n",
       "      <td>400.0</td>\n",
       "      <td>08/12/2015</td>\n",
       "      <td>05/25/2016</td>\n",
       "    </tr>\n",
       "  </tbody>\n",
       "</table>\n",
       "</div>"
      ],
      "text/plain": [
       "   student.studentNumber mailingAddress.addressLine1  \\\n",
       "0              111120061             151 Escanyo Dr    \n",
       "1              111130092          222 Alta Vista Dr    \n",
       "2              111130111      144 Country Club Dr #9   \n",
       "3              111170029             512 Poplar Ave    \n",
       "4              112080082            1 Wakefield Ave    \n",
       "\n",
       "  mailingAddress.addressLine2 mailingAddress.city mailingAddress.state  \\\n",
       "0  So San Francisco, CA 94080    So San Francisco                   CA   \n",
       "1  So San Francisco, CA 94080    So San Francisco                   CA   \n",
       "2  So San Francisco, CA 94080    So San Francisco                   CA   \n",
       "3  So San Francisco, CA 94080    So San Francisco                   CA   \n",
       "4         Daly City, CA 94015           Daly City                   CA   \n",
       "\n",
       "  mailingAddress.zip  student.raceEthnicity student.startDate student.endDate  \n",
       "0              94080                  400.0        08/12/2015      05/25/2016  \n",
       "1              94080                  700.0        08/12/2015      05/25/2016  \n",
       "2              94080                  700.0        08/12/2015      05/25/2016  \n",
       "3              94080                  399.0        08/12/2015      05/25/2016  \n",
       "4              94015                  400.0        08/12/2015      05/25/2016  "
      ]
     },
     "execution_count": 89,
     "metadata": {},
     "output_type": "execute_result"
    }
   ],
   "source": [
    "#clean up of 2015 csv\n",
    "demo_2015.head()"
   ]
  },
  {
   "cell_type": "code",
   "execution_count": 90,
   "metadata": {},
   "outputs": [
    {
     "data": {
      "text/html": [
       "<div>\n",
       "<style scoped>\n",
       "    .dataframe tbody tr th:only-of-type {\n",
       "        vertical-align: middle;\n",
       "    }\n",
       "\n",
       "    .dataframe tbody tr th {\n",
       "        vertical-align: top;\n",
       "    }\n",
       "\n",
       "    .dataframe thead th {\n",
       "        text-align: right;\n",
       "    }\n",
       "</style>\n",
       "<table border=\"1\" class=\"dataframe\">\n",
       "  <thead>\n",
       "    <tr style=\"text-align: right;\">\n",
       "      <th></th>\n",
       "      <th>student_id</th>\n",
       "      <th>mailingAddress.addressLine1</th>\n",
       "      <th>mailingAddress.addressLine2</th>\n",
       "      <th>mailingAddress.city</th>\n",
       "      <th>mailingAddress.state</th>\n",
       "      <th>mailingAddress.zip</th>\n",
       "      <th>student.raceEthnicity</th>\n",
       "      <th>student.startDate</th>\n",
       "      <th>student.endDate</th>\n",
       "    </tr>\n",
       "  </thead>\n",
       "  <tbody>\n",
       "    <tr>\n",
       "      <th>0</th>\n",
       "      <td>111120061</td>\n",
       "      <td>151 Escanyo Dr</td>\n",
       "      <td>So San Francisco, CA 94080</td>\n",
       "      <td>So San Francisco</td>\n",
       "      <td>CA</td>\n",
       "      <td>94080</td>\n",
       "      <td>400.0</td>\n",
       "      <td>08/12/2015</td>\n",
       "      <td>05/25/2016</td>\n",
       "    </tr>\n",
       "    <tr>\n",
       "      <th>1</th>\n",
       "      <td>111130092</td>\n",
       "      <td>222 Alta Vista Dr</td>\n",
       "      <td>So San Francisco, CA 94080</td>\n",
       "      <td>So San Francisco</td>\n",
       "      <td>CA</td>\n",
       "      <td>94080</td>\n",
       "      <td>700.0</td>\n",
       "      <td>08/12/2015</td>\n",
       "      <td>05/25/2016</td>\n",
       "    </tr>\n",
       "    <tr>\n",
       "      <th>2</th>\n",
       "      <td>111130111</td>\n",
       "      <td>144 Country Club Dr #9</td>\n",
       "      <td>So San Francisco, CA 94080</td>\n",
       "      <td>So San Francisco</td>\n",
       "      <td>CA</td>\n",
       "      <td>94080</td>\n",
       "      <td>700.0</td>\n",
       "      <td>08/12/2015</td>\n",
       "      <td>05/25/2016</td>\n",
       "    </tr>\n",
       "    <tr>\n",
       "      <th>3</th>\n",
       "      <td>111170029</td>\n",
       "      <td>512 Poplar Ave</td>\n",
       "      <td>So San Francisco, CA 94080</td>\n",
       "      <td>So San Francisco</td>\n",
       "      <td>CA</td>\n",
       "      <td>94080</td>\n",
       "      <td>399.0</td>\n",
       "      <td>08/12/2015</td>\n",
       "      <td>05/25/2016</td>\n",
       "    </tr>\n",
       "    <tr>\n",
       "      <th>4</th>\n",
       "      <td>112080082</td>\n",
       "      <td>1 Wakefield Ave</td>\n",
       "      <td>Daly City, CA 94015</td>\n",
       "      <td>Daly City</td>\n",
       "      <td>CA</td>\n",
       "      <td>94015</td>\n",
       "      <td>400.0</td>\n",
       "      <td>08/12/2015</td>\n",
       "      <td>05/25/2016</td>\n",
       "    </tr>\n",
       "  </tbody>\n",
       "</table>\n",
       "</div>"
      ],
      "text/plain": [
       "   student_id mailingAddress.addressLine1 mailingAddress.addressLine2  \\\n",
       "0   111120061             151 Escanyo Dr   So San Francisco, CA 94080   \n",
       "1   111130092          222 Alta Vista Dr   So San Francisco, CA 94080   \n",
       "2   111130111      144 Country Club Dr #9  So San Francisco, CA 94080   \n",
       "3   111170029             512 Poplar Ave   So San Francisco, CA 94080   \n",
       "4   112080082            1 Wakefield Ave          Daly City, CA 94015   \n",
       "\n",
       "  mailingAddress.city mailingAddress.state mailingAddress.zip  \\\n",
       "0    So San Francisco                   CA              94080   \n",
       "1    So San Francisco                   CA              94080   \n",
       "2    So San Francisco                   CA              94080   \n",
       "3    So San Francisco                   CA              94080   \n",
       "4           Daly City                   CA              94015   \n",
       "\n",
       "   student.raceEthnicity student.startDate student.endDate  \n",
       "0                  400.0        08/12/2015      05/25/2016  \n",
       "1                  700.0        08/12/2015      05/25/2016  \n",
       "2                  700.0        08/12/2015      05/25/2016  \n",
       "3                  399.0        08/12/2015      05/25/2016  \n",
       "4                  400.0        08/12/2015      05/25/2016  "
      ]
     },
     "execution_count": 90,
     "metadata": {},
     "output_type": "execute_result"
    }
   ],
   "source": [
    "demo_2015 = demo_2015.rename(columns={\"student.studentNumber\":\"student_id\"})\n",
    "demo_2015.head()"
   ]
  },
  {
   "cell_type": "code",
   "execution_count": 91,
   "metadata": {},
   "outputs": [],
   "source": [
    "# Change the type of \"student_id\" to string\n",
    "demo_2015[\"student_id\"] = demo_2015[\"student_id\"].astype(str)"
   ]
  },
  {
   "cell_type": "code",
   "execution_count": 92,
   "metadata": {},
   "outputs": [
    {
     "name": "stdout",
     "output_type": "stream",
     "text": [
      "9357 9260 9133 8887\n"
     ]
    }
   ],
   "source": [
    "# get the enrollment count for each year\n",
    "\n",
    "count_2015 = demo_2015[\"student_id\"].nunique()\n",
    "count_2016 = demo_2016[\"student_id\"].nunique()\n",
    "count_2017 = demo_2017[\"student_id\"].nunique()\n",
    "count_2018 = demo_2018[\"student_id\"].nunique()\n",
    "\n",
    "print(count_2015, count_2016, count_2017, count_2018)"
   ]
  },
  {
   "cell_type": "code",
   "execution_count": 3,
   "metadata": {
    "scrolled": true
   },
   "outputs": [
    {
     "data": {
      "text/html": [
       "<div>\n",
       "<style scoped>\n",
       "    .dataframe tbody tr th:only-of-type {\n",
       "        vertical-align: middle;\n",
       "    }\n",
       "\n",
       "    .dataframe tbody tr th {\n",
       "        vertical-align: top;\n",
       "    }\n",
       "\n",
       "    .dataframe thead th {\n",
       "        text-align: right;\n",
       "    }\n",
       "</style>\n",
       "<table border=\"1\" class=\"dataframe\">\n",
       "  <thead>\n",
       "    <tr style=\"text-align: right;\">\n",
       "      <th></th>\n",
       "      <th>school_year</th>\n",
       "      <th>students_enrolled</th>\n",
       "    </tr>\n",
       "  </thead>\n",
       "  <tbody>\n",
       "    <tr>\n",
       "      <th>0</th>\n",
       "      <td>2015-2016</td>\n",
       "      <td>9357</td>\n",
       "    </tr>\n",
       "    <tr>\n",
       "      <th>1</th>\n",
       "      <td>2016-2017</td>\n",
       "      <td>9260</td>\n",
       "    </tr>\n",
       "    <tr>\n",
       "      <th>2</th>\n",
       "      <td>2017-2018</td>\n",
       "      <td>9133</td>\n",
       "    </tr>\n",
       "    <tr>\n",
       "      <th>3</th>\n",
       "      <td>2018-2019</td>\n",
       "      <td>8887</td>\n",
       "    </tr>\n",
       "  </tbody>\n",
       "</table>\n",
       "</div>"
      ],
      "text/plain": [
       "  school_year  students_enrolled\n",
       "0   2015-2016               9357\n",
       "1   2016-2017               9260\n",
       "2   2017-2018               9133\n",
       "3   2018-2019               8887"
      ]
     },
     "execution_count": 3,
     "metadata": {},
     "output_type": "execute_result"
    }
   ],
   "source": [
    "# Create a new data frame for enrollment counts \n",
    "\n",
    "enrollment_count = pd.DataFrame(\n",
    "    {\"school_year\": [\"2015-2016\", \"2016-2017\", \"2017-2018\", \"2018-2019\"],\n",
    "     \"students_enrolled\": [9357, 9260, 9133, 8887]\n",
    "     }\n",
    ")\n",
    "\n",
    "enrollment_count"
   ]
  },
  {
   "cell_type": "code",
   "execution_count": 4,
   "metadata": {},
   "outputs": [],
   "source": [
    "# Save data frame to CSV\n",
    "enrollment_count.to_csv(\"data/enrollment_count.csv\", index=False)"
   ]
  },
  {
   "cell_type": "markdown",
   "metadata": {},
   "source": [
    "### Calculate percent change for MHI"
   ]
  },
  {
   "cell_type": "code",
   "execution_count": 70,
   "metadata": {
    "scrolled": true
   },
   "outputs": [
    {
     "data": {
      "text/html": [
       "<div>\n",
       "<style scoped>\n",
       "    .dataframe tbody tr th:only-of-type {\n",
       "        vertical-align: middle;\n",
       "    }\n",
       "\n",
       "    .dataframe tbody tr th {\n",
       "        vertical-align: top;\n",
       "    }\n",
       "\n",
       "    .dataframe thead th {\n",
       "        text-align: right;\n",
       "    }\n",
       "</style>\n",
       "<table border=\"1\" class=\"dataframe\">\n",
       "  <thead>\n",
       "    <tr style=\"text-align: right;\">\n",
       "      <th></th>\n",
       "      <th>studentsEnrolled</th>\n",
       "    </tr>\n",
       "  </thead>\n",
       "  <tbody>\n",
       "    <tr>\n",
       "      <th>2015-2016</th>\n",
       "      <td>9357</td>\n",
       "    </tr>\n",
       "    <tr>\n",
       "      <th>2016-2017</th>\n",
       "      <td>9260</td>\n",
       "    </tr>\n",
       "    <tr>\n",
       "      <th>2017-2018</th>\n",
       "      <td>9133</td>\n",
       "    </tr>\n",
       "    <tr>\n",
       "      <th>2018-2019</th>\n",
       "      <td>8887</td>\n",
       "    </tr>\n",
       "  </tbody>\n",
       "</table>\n",
       "</div>"
      ],
      "text/plain": [
       "           studentsEnrolled\n",
       "2015-2016              9357\n",
       "2016-2017              9260\n",
       "2017-2018              9133\n",
       "2018-2019              8887"
      ]
     },
     "execution_count": 70,
     "metadata": {},
     "output_type": "execute_result"
    }
   ],
   "source": [
    "# Calculate percent change for MHI\n",
    "studentCount_pctChange = pd.DataFrame(\n",
    "    {\"studentsEnrolled\": [9357, 9260, 9133, 8887]},\n",
    "     index =  [\"2015-2016\", \"2016-2017\", \"2017-2018\", \"2018-2019\"]\n",
    ")\n",
    "\n",
    "studentCount_pctChange"
   ]
  },
  {
   "cell_type": "code",
   "execution_count": 81,
   "metadata": {
    "scrolled": true
   },
   "outputs": [
    {
     "data": {
      "text/html": [
       "<div>\n",
       "<style scoped>\n",
       "    .dataframe tbody tr th:only-of-type {\n",
       "        vertical-align: middle;\n",
       "    }\n",
       "\n",
       "    .dataframe tbody tr th {\n",
       "        vertical-align: top;\n",
       "    }\n",
       "\n",
       "    .dataframe thead th {\n",
       "        text-align: right;\n",
       "    }\n",
       "</style>\n",
       "<table border=\"1\" class=\"dataframe\">\n",
       "  <thead>\n",
       "    <tr style=\"text-align: right;\">\n",
       "      <th></th>\n",
       "      <th>studentsEnrolled</th>\n",
       "    </tr>\n",
       "  </thead>\n",
       "  <tbody>\n",
       "    <tr>\n",
       "      <th>2015-2016</th>\n",
       "      <td>NaN</td>\n",
       "    </tr>\n",
       "    <tr>\n",
       "      <th>2016-2017</th>\n",
       "      <td>-0.010367</td>\n",
       "    </tr>\n",
       "    <tr>\n",
       "      <th>2017-2018</th>\n",
       "      <td>-0.013715</td>\n",
       "    </tr>\n",
       "    <tr>\n",
       "      <th>2018-2019</th>\n",
       "      <td>-0.026935</td>\n",
       "    </tr>\n",
       "  </tbody>\n",
       "</table>\n",
       "</div>"
      ],
      "text/plain": [
       "           studentsEnrolled\n",
       "2015-2016               NaN\n",
       "2016-2017         -0.010367\n",
       "2017-2018         -0.013715\n",
       "2018-2019         -0.026935"
      ]
     },
     "execution_count": 81,
     "metadata": {},
     "output_type": "execute_result"
    }
   ],
   "source": [
    "# percent change\n",
    "avg_percent = studentCount_pctChange.pct_change()\n",
    "avg_percent"
   ]
  },
  {
   "cell_type": "code",
   "execution_count": 82,
   "metadata": {
    "scrolled": true
   },
   "outputs": [
    {
     "data": {
      "text/plain": [
       "studentsEnrolled   -0.017006\n",
       "dtype: float64"
      ]
     },
     "execution_count": 82,
     "metadata": {},
     "output_type": "execute_result"
    }
   ],
   "source": [
    "# average percent change\n",
    "avg_percent.iloc[[1,2,3]].mean()"
   ]
  },
  {
   "cell_type": "markdown",
   "metadata": {},
   "source": [
    "# Loading CSVs to database"
   ]
  },
  {
   "cell_type": "code",
   "execution_count": 7,
   "metadata": {},
   "outputs": [],
   "source": [
    "connection_string = \"postgres:marlata1@localhost:5432/MHIvsEnrollmentCount\"\n",
    "engine = create_engine(f'postgresql://{connection_string}')"
   ]
  },
  {
   "cell_type": "code",
   "execution_count": 8,
   "metadata": {},
   "outputs": [
    {
     "data": {
      "text/plain": [
       "['median_household_income', 'enrollment_count']"
      ]
     },
     "execution_count": 8,
     "metadata": {},
     "output_type": "execute_result"
    }
   ],
   "source": [
    "engine.table_names()"
   ]
  },
  {
   "cell_type": "code",
   "execution_count": 12,
   "metadata": {},
   "outputs": [],
   "source": [
    "median_household_income.to_sql(name='median_household_income', con=engine, if_exists='append', index=False)\n",
    "enrollment_count.to_sql(name='enrollment_count', con=engine, if_exists='append', index=False)"
   ]
  },
  {
   "cell_type": "code",
   "execution_count": 13,
   "metadata": {},
   "outputs": [
    {
     "data": {
      "text/html": [
       "<div>\n",
       "<style scoped>\n",
       "    .dataframe tbody tr th:only-of-type {\n",
       "        vertical-align: middle;\n",
       "    }\n",
       "\n",
       "    .dataframe tbody tr th {\n",
       "        vertical-align: top;\n",
       "    }\n",
       "\n",
       "    .dataframe thead th {\n",
       "        text-align: right;\n",
       "    }\n",
       "</style>\n",
       "<table border=\"1\" class=\"dataframe\">\n",
       "  <thead>\n",
       "    <tr style=\"text-align: right;\">\n",
       "      <th></th>\n",
       "      <th>year</th>\n",
       "      <th>mhi</th>\n",
       "    </tr>\n",
       "  </thead>\n",
       "  <tbody>\n",
       "    <tr>\n",
       "      <th>0</th>\n",
       "      <td>2015</td>\n",
       "      <td>101133</td>\n",
       "    </tr>\n",
       "    <tr>\n",
       "      <th>1</th>\n",
       "      <td>2016</td>\n",
       "      <td>107075</td>\n",
       "    </tr>\n",
       "    <tr>\n",
       "      <th>2</th>\n",
       "      <td>2017</td>\n",
       "      <td>115908</td>\n",
       "    </tr>\n",
       "    <tr>\n",
       "      <th>3</th>\n",
       "      <td>2018</td>\n",
       "      <td>122930</td>\n",
       "    </tr>\n",
       "  </tbody>\n",
       "</table>\n",
       "</div>"
      ],
      "text/plain": [
       "   year     mhi\n",
       "0  2015  101133\n",
       "1  2016  107075\n",
       "2  2017  115908\n",
       "3  2018  122930"
      ]
     },
     "execution_count": 13,
     "metadata": {},
     "output_type": "execute_result"
    }
   ],
   "source": [
    "pd.read_sql_query('select * from median_household_income', con=engine)"
   ]
  },
  {
   "cell_type": "code",
   "execution_count": 15,
   "metadata": {},
   "outputs": [
    {
     "data": {
      "text/html": [
       "<div>\n",
       "<style scoped>\n",
       "    .dataframe tbody tr th:only-of-type {\n",
       "        vertical-align: middle;\n",
       "    }\n",
       "\n",
       "    .dataframe tbody tr th {\n",
       "        vertical-align: top;\n",
       "    }\n",
       "\n",
       "    .dataframe thead th {\n",
       "        text-align: right;\n",
       "    }\n",
       "</style>\n",
       "<table border=\"1\" class=\"dataframe\">\n",
       "  <thead>\n",
       "    <tr style=\"text-align: right;\">\n",
       "      <th></th>\n",
       "      <th>school_year</th>\n",
       "      <th>students_enrolled</th>\n",
       "    </tr>\n",
       "  </thead>\n",
       "  <tbody>\n",
       "    <tr>\n",
       "      <th>0</th>\n",
       "      <td>2015-2016</td>\n",
       "      <td>9357</td>\n",
       "    </tr>\n",
       "    <tr>\n",
       "      <th>1</th>\n",
       "      <td>2016-2017</td>\n",
       "      <td>9260</td>\n",
       "    </tr>\n",
       "    <tr>\n",
       "      <th>2</th>\n",
       "      <td>2017-2018</td>\n",
       "      <td>9133</td>\n",
       "    </tr>\n",
       "    <tr>\n",
       "      <th>3</th>\n",
       "      <td>2018-2019</td>\n",
       "      <td>8887</td>\n",
       "    </tr>\n",
       "  </tbody>\n",
       "</table>\n",
       "</div>"
      ],
      "text/plain": [
       "  school_year  students_enrolled\n",
       "0   2015-2016               9357\n",
       "1   2016-2017               9260\n",
       "2   2017-2018               9133\n",
       "3   2018-2019               8887"
      ]
     },
     "execution_count": 15,
     "metadata": {},
     "output_type": "execute_result"
    }
   ],
   "source": [
    "pd.read_sql_query('select * from enrollment_count', con=engine)"
   ]
  },
  {
   "cell_type": "code",
   "execution_count": null,
   "metadata": {},
   "outputs": [],
   "source": []
  }
 ],
 "metadata": {
  "kernelspec": {
   "display_name": "Python 3",
   "language": "python",
   "name": "python3"
  },
  "language_info": {
   "codemirror_mode": {
    "name": "ipython",
    "version": 3
   },
   "file_extension": ".py",
   "mimetype": "text/x-python",
   "name": "python",
   "nbconvert_exporter": "python",
   "pygments_lexer": "ipython3",
   "version": "3.7.4"
  }
 },
 "nbformat": 4,
 "nbformat_minor": 2
}
